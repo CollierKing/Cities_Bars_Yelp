{
 "cells": [
  {
   "cell_type": "code",
   "execution_count": 1,
   "metadata": {
    "collapsed": true
   },
   "outputs": [],
   "source": [
    "import numpy as np\n",
    "\n",
    "from matplotlib import pyplot as plt\n",
    "from matplotlib.collections import LineCollection\n",
    "\n",
    "from sklearn import manifold\n",
    "from sklearn.metrics import euclidean_distances\n",
    "from sklearn.decomposition import PCA\n",
    "import pandas as pd"
   ]
  },
  {
   "cell_type": "code",
   "execution_count": 28,
   "metadata": {
    "collapsed": false
   },
   "outputs": [
    {
     "name": "stderr",
     "output_type": "stream",
     "text": [
      "C:\\Users\\Collier\\AppData\\Local\\Programs\\Python\\Python36\\lib\\site-packages\\ipykernel_launcher.py:8: DeprecationWarning: \n",
      ".ix is deprecated. Please use\n",
      ".loc for label based indexing or\n",
      ".iloc for positional indexing\n",
      "\n",
      "See the documentation here:\n",
      "http://pandas.pydata.org/pandas-docs/stable/indexing.html#deprecate_ix\n",
      "  \n"
     ]
    }
   ],
   "source": [
    "n_samples = 20\n",
    "seed = np.random.RandomState(seed=3)\n",
    "\n",
    "df = pd.io.parsers.read_csv('output.csv')\n",
    "df = df.set_index('names')\n",
    "df.apply(lambda c: c / c.sum() * 100, axis=0)\n",
    "\n",
    "df = df.ix[:,0:50]"
   ]
  },
  {
   "cell_type": "code",
   "execution_count": 29,
   "metadata": {
    "collapsed": false
   },
   "outputs": [],
   "source": [
    "df = df.astype(int)"
   ]
  },
  {
   "cell_type": "code",
   "execution_count": 30,
   "metadata": {
    "collapsed": false
   },
   "outputs": [
    {
     "data": {
      "text/html": [
       "<div>\n",
       "<style>\n",
       "    .dataframe thead tr:only-child th {\n",
       "        text-align: right;\n",
       "    }\n",
       "\n",
       "    .dataframe thead th {\n",
       "        text-align: left;\n",
       "    }\n",
       "\n",
       "    .dataframe tbody tr th {\n",
       "        vertical-align: top;\n",
       "    }\n",
       "</style>\n",
       "<table border=\"1\" class=\"dataframe\">\n",
       "  <thead>\n",
       "    <tr style=\"text-align: right;\">\n",
       "      <th></th>\n",
       "      <th>just</th>\n",
       "      <th>check</th>\n",
       "      <th>today</th>\n",
       "      <th>like</th>\n",
       "      <th>love</th>\n",
       "      <th>pizza</th>\n",
       "      <th>thank</th>\n",
       "      <th>make</th>\n",
       "      <th>want</th>\n",
       "      <th>food</th>\n",
       "      <th>...</th>\n",
       "      <th>happi</th>\n",
       "      <th>bell</th>\n",
       "      <th>life</th>\n",
       "      <th>wait</th>\n",
       "      <th>thing</th>\n",
       "      <th>peopl</th>\n",
       "      <th>custom</th>\n",
       "      <th>help</th>\n",
       "      <th>sauc</th>\n",
       "      <th>becaus</th>\n",
       "    </tr>\n",
       "    <tr>\n",
       "      <th>names</th>\n",
       "      <th></th>\n",
       "      <th></th>\n",
       "      <th></th>\n",
       "      <th></th>\n",
       "      <th></th>\n",
       "      <th></th>\n",
       "      <th></th>\n",
       "      <th></th>\n",
       "      <th></th>\n",
       "      <th></th>\n",
       "      <th></th>\n",
       "      <th></th>\n",
       "      <th></th>\n",
       "      <th></th>\n",
       "      <th></th>\n",
       "      <th></th>\n",
       "      <th></th>\n",
       "      <th></th>\n",
       "      <th></th>\n",
       "      <th></th>\n",
       "      <th></th>\n",
       "    </tr>\n",
       "  </thead>\n",
       "  <tbody>\n",
       "    <tr>\n",
       "      <th>wendi</th>\n",
       "      <td>0</td>\n",
       "      <td>356</td>\n",
       "      <td>392</td>\n",
       "      <td>158</td>\n",
       "      <td>124</td>\n",
       "      <td>1</td>\n",
       "      <td>128</td>\n",
       "      <td>95</td>\n",
       "      <td>97</td>\n",
       "      <td>121</td>\n",
       "      <td>...</td>\n",
       "      <td>17</td>\n",
       "      <td>4</td>\n",
       "      <td>25</td>\n",
       "      <td>34</td>\n",
       "      <td>38</td>\n",
       "      <td>41</td>\n",
       "      <td>38</td>\n",
       "      <td>47</td>\n",
       "      <td>33</td>\n",
       "      <td>0</td>\n",
       "    </tr>\n",
       "    <tr>\n",
       "      <th>mcdonald</th>\n",
       "      <td>0</td>\n",
       "      <td>1074</td>\n",
       "      <td>177</td>\n",
       "      <td>584</td>\n",
       "      <td>314</td>\n",
       "      <td>10</td>\n",
       "      <td>395</td>\n",
       "      <td>585</td>\n",
       "      <td>358</td>\n",
       "      <td>532</td>\n",
       "      <td>...</td>\n",
       "      <td>294</td>\n",
       "      <td>7</td>\n",
       "      <td>141</td>\n",
       "      <td>121</td>\n",
       "      <td>157</td>\n",
       "      <td>253</td>\n",
       "      <td>122</td>\n",
       "      <td>291</td>\n",
       "      <td>86</td>\n",
       "      <td>0</td>\n",
       "    </tr>\n",
       "    <tr>\n",
       "      <th>pizzahut</th>\n",
       "      <td>0</td>\n",
       "      <td>337</td>\n",
       "      <td>389</td>\n",
       "      <td>198</td>\n",
       "      <td>361</td>\n",
       "      <td>1632</td>\n",
       "      <td>268</td>\n",
       "      <td>151</td>\n",
       "      <td>180</td>\n",
       "      <td>94</td>\n",
       "      <td>...</td>\n",
       "      <td>58</td>\n",
       "      <td>0</td>\n",
       "      <td>53</td>\n",
       "      <td>98</td>\n",
       "      <td>48</td>\n",
       "      <td>32</td>\n",
       "      <td>74</td>\n",
       "      <td>40</td>\n",
       "      <td>33</td>\n",
       "      <td>0</td>\n",
       "    </tr>\n",
       "    <tr>\n",
       "      <th>tacobel</th>\n",
       "      <td>0</td>\n",
       "      <td>43</td>\n",
       "      <td>154</td>\n",
       "      <td>421</td>\n",
       "      <td>501</td>\n",
       "      <td>48</td>\n",
       "      <td>410</td>\n",
       "      <td>303</td>\n",
       "      <td>394</td>\n",
       "      <td>293</td>\n",
       "      <td>...</td>\n",
       "      <td>133</td>\n",
       "      <td>622</td>\n",
       "      <td>242</td>\n",
       "      <td>178</td>\n",
       "      <td>195</td>\n",
       "      <td>106</td>\n",
       "      <td>46</td>\n",
       "      <td>69</td>\n",
       "      <td>322</td>\n",
       "      <td>0</td>\n",
       "    </tr>\n",
       "    <tr>\n",
       "      <th>chipotletweet</th>\n",
       "      <td>0</td>\n",
       "      <td>149</td>\n",
       "      <td>323</td>\n",
       "      <td>208</td>\n",
       "      <td>225</td>\n",
       "      <td>2</td>\n",
       "      <td>254</td>\n",
       "      <td>148</td>\n",
       "      <td>192</td>\n",
       "      <td>197</td>\n",
       "      <td>...</td>\n",
       "      <td>63</td>\n",
       "      <td>8</td>\n",
       "      <td>86</td>\n",
       "      <td>81</td>\n",
       "      <td>65</td>\n",
       "      <td>61</td>\n",
       "      <td>58</td>\n",
       "      <td>52</td>\n",
       "      <td>14</td>\n",
       "      <td>0</td>\n",
       "    </tr>\n",
       "    <tr>\n",
       "      <th>kfc</th>\n",
       "      <td>0</td>\n",
       "      <td>0</td>\n",
       "      <td>0</td>\n",
       "      <td>0</td>\n",
       "      <td>0</td>\n",
       "      <td>0</td>\n",
       "      <td>0</td>\n",
       "      <td>0</td>\n",
       "      <td>0</td>\n",
       "      <td>0</td>\n",
       "      <td>...</td>\n",
       "      <td>0</td>\n",
       "      <td>0</td>\n",
       "      <td>0</td>\n",
       "      <td>0</td>\n",
       "      <td>0</td>\n",
       "      <td>0</td>\n",
       "      <td>0</td>\n",
       "      <td>0</td>\n",
       "      <td>0</td>\n",
       "      <td>0</td>\n",
       "    </tr>\n",
       "    <tr>\n",
       "      <th>burgerk</th>\n",
       "      <td>0</td>\n",
       "      <td>2</td>\n",
       "      <td>2</td>\n",
       "      <td>17</td>\n",
       "      <td>1</td>\n",
       "      <td>1</td>\n",
       "      <td>4</td>\n",
       "      <td>3</td>\n",
       "      <td>3</td>\n",
       "      <td>22</td>\n",
       "      <td>...</td>\n",
       "      <td>1</td>\n",
       "      <td>1</td>\n",
       "      <td>1</td>\n",
       "      <td>3</td>\n",
       "      <td>4</td>\n",
       "      <td>2</td>\n",
       "      <td>1</td>\n",
       "      <td>2</td>\n",
       "      <td>1</td>\n",
       "      <td>0</td>\n",
       "    </tr>\n",
       "    <tr>\n",
       "      <th>qdobamexgril</th>\n",
       "      <td>0</td>\n",
       "      <td>6</td>\n",
       "      <td>14</td>\n",
       "      <td>14</td>\n",
       "      <td>20</td>\n",
       "      <td>1</td>\n",
       "      <td>20</td>\n",
       "      <td>6</td>\n",
       "      <td>20</td>\n",
       "      <td>6</td>\n",
       "      <td>...</td>\n",
       "      <td>7</td>\n",
       "      <td>0</td>\n",
       "      <td>8</td>\n",
       "      <td>3</td>\n",
       "      <td>5</td>\n",
       "      <td>3</td>\n",
       "      <td>8</td>\n",
       "      <td>6</td>\n",
       "      <td>5</td>\n",
       "      <td>0</td>\n",
       "    </tr>\n",
       "    <tr>\n",
       "      <th>chickfila</th>\n",
       "      <td>0</td>\n",
       "      <td>185</td>\n",
       "      <td>327</td>\n",
       "      <td>167</td>\n",
       "      <td>222</td>\n",
       "      <td>8</td>\n",
       "      <td>227</td>\n",
       "      <td>123</td>\n",
       "      <td>277</td>\n",
       "      <td>189</td>\n",
       "      <td>...</td>\n",
       "      <td>58</td>\n",
       "      <td>0</td>\n",
       "      <td>69</td>\n",
       "      <td>65</td>\n",
       "      <td>53</td>\n",
       "      <td>51</td>\n",
       "      <td>58</td>\n",
       "      <td>27</td>\n",
       "      <td>63</td>\n",
       "      <td>0</td>\n",
       "    </tr>\n",
       "  </tbody>\n",
       "</table>\n",
       "<p>9 rows × 50 columns</p>\n",
       "</div>"
      ],
      "text/plain": [
       "               just  check  today  like  love  pizza  thank  make  want  food  \\\n",
       "names                                                                           \n",
       "wendi             0    356    392   158   124      1    128    95    97   121   \n",
       "mcdonald          0   1074    177   584   314     10    395   585   358   532   \n",
       "pizzahut          0    337    389   198   361   1632    268   151   180    94   \n",
       "tacobel           0     43    154   421   501     48    410   303   394   293   \n",
       "chipotletweet     0    149    323   208   225      2    254   148   192   197   \n",
       "kfc               0      0      0     0     0      0      0     0     0     0   \n",
       "burgerk           0      2      2    17     1      1      4     3     3    22   \n",
       "qdobamexgril      0      6     14    14    20      1     20     6    20     6   \n",
       "chickfila         0    185    327   167   222      8    227   123   277   189   \n",
       "\n",
       "                ...    happi  bell  life  wait  thing  peopl  custom  help  \\\n",
       "names           ...                                                          \n",
       "wendi           ...       17     4    25    34     38     41      38    47   \n",
       "mcdonald        ...      294     7   141   121    157    253     122   291   \n",
       "pizzahut        ...       58     0    53    98     48     32      74    40   \n",
       "tacobel         ...      133   622   242   178    195    106      46    69   \n",
       "chipotletweet   ...       63     8    86    81     65     61      58    52   \n",
       "kfc             ...        0     0     0     0      0      0       0     0   \n",
       "burgerk         ...        1     1     1     3      4      2       1     2   \n",
       "qdobamexgril    ...        7     0     8     3      5      3       8     6   \n",
       "chickfila       ...       58     0    69    65     53     51      58    27   \n",
       "\n",
       "               sauc  becaus  \n",
       "names                        \n",
       "wendi            33       0  \n",
       "mcdonald         86       0  \n",
       "pizzahut         33       0  \n",
       "tacobel         322       0  \n",
       "chipotletweet    14       0  \n",
       "kfc               0       0  \n",
       "burgerk           1       0  \n",
       "qdobamexgril      5       0  \n",
       "chickfila        63       0  \n",
       "\n",
       "[9 rows x 50 columns]"
      ]
     },
     "execution_count": 30,
     "metadata": {},
     "output_type": "execute_result"
    }
   ],
   "source": [
    "df"
   ]
  },
  {
   "cell_type": "code",
   "execution_count": 33,
   "metadata": {
    "collapsed": false
   },
   "outputs": [
    {
     "data": {
      "text/plain": [
       "numpy.ndarray"
      ]
     },
     "execution_count": 33,
     "metadata": {},
     "output_type": "execute_result"
    }
   ],
   "source": [
    "type(dataMatrix)"
   ]
  },
  {
   "cell_type": "code",
   "execution_count": 35,
   "metadata": {
    "collapsed": false
   },
   "outputs": [],
   "source": [
    "dataMatrix = df.as_matrix()\n",
    "dataMatrix = dataMatrix.astype(np.float64)\n",
    "dataMatrix -= dataMatrix.mean()\n",
    "similarities = euclidean_distances(dataMatrix)\n",
    "\n",
    "# print(df.describe())\n",
    "# print(df.head())\n",
    "# print(\"Test Here\")"
   ]
  },
  {
   "cell_type": "code",
   "execution_count": 37,
   "metadata": {
    "collapsed": true
   },
   "outputs": [],
   "source": [
    "mds = manifold.MDS(n_components=2, max_iter=3000, eps=1e-9, random_state=seed,\n",
    "                   dissimilarity=\"precomputed\", n_jobs=1)"
   ]
  },
  {
   "cell_type": "code",
   "execution_count": 41,
   "metadata": {
    "collapsed": false
   },
   "outputs": [
    {
     "data": {
      "text/plain": [
       "MDS(dissimilarity='precomputed', eps=1e-09, max_iter=3000, metric=True,\n",
       "  n_components=2, n_init=4, n_jobs=1,\n",
       "  random_state=<mtrand.RandomState object at 0x000001882B075900>,\n",
       "  verbose=0)"
      ]
     },
     "execution_count": 41,
     "metadata": {},
     "output_type": "execute_result"
    }
   ],
   "source": [
    "mds"
   ]
  },
  {
   "cell_type": "code",
   "execution_count": 39,
   "metadata": {
    "collapsed": true
   },
   "outputs": [],
   "source": [
    "pos = mds.fit(similarities).embedding_"
   ]
  },
  {
   "cell_type": "code",
   "execution_count": 40,
   "metadata": {
    "collapsed": false
   },
   "outputs": [
    {
     "data": {
      "text/plain": [
       "array([[  2.52049105e+02,   2.36385047e+01],\n",
       "       [ -1.11655642e+03,   1.38584225e+03],\n",
       "       [  9.58591747e+02,   1.24954781e+03],\n",
       "       [ -1.45056109e+03,  -3.89829030e+02],\n",
       "       [ -3.60008796e+02,  -5.33591086e+02],\n",
       "       [  6.06289562e+02,  -5.99682533e+02],\n",
       "       [  5.95617598e+02,  -5.63121056e+02],\n",
       "       [  5.45094807e+02,  -5.73163533e+02],\n",
       "       [ -3.05165115e+01,   3.58670272e-01]])"
      ]
     },
     "execution_count": 40,
     "metadata": {},
     "output_type": "execute_result"
    }
   ],
   "source": [
    "pos"
   ]
  },
  {
   "cell_type": "code",
   "execution_count": 42,
   "metadata": {
    "collapsed": true
   },
   "outputs": [],
   "source": [
    "nmds = manifold.MDS(n_components=2, metric=False, max_iter=3000, eps=1e-12,\n",
    "                    dissimilarity=\"precomputed\", random_state=seed, n_jobs=1,\n",
    "                    n_init=1)\n",
    "npos = nmds.fit_transform(similarities)"
   ]
  },
  {
   "cell_type": "code",
   "execution_count": 43,
   "metadata": {
    "collapsed": true
   },
   "outputs": [],
   "source": [
    "npos *= np.sqrt((dataMatrix ** 2).sum()) / np.sqrt((npos ** 2).sum())"
   ]
  },
  {
   "cell_type": "code",
   "execution_count": 44,
   "metadata": {
    "collapsed": false
   },
   "outputs": [
    {
     "data": {
      "text/plain": [
       "array([[  799.38388794,   287.52704589],\n",
       "       [  499.3760333 , -1291.13944231],\n",
       "       [-1323.26227172,  -310.93641134],\n",
       "       [ -650.05548987,  -782.52070328],\n",
       "       [-1042.42866857,   127.429386  ],\n",
       "       [ -361.78563454,   908.67686871],\n",
       "       [  281.4169238 ,   245.15253872],\n",
       "       [  645.05078997,  -505.0467051 ],\n",
       "       [ 1329.42494735,  1288.31991261]])"
      ]
     },
     "execution_count": 44,
     "metadata": {},
     "output_type": "execute_result"
    }
   ],
   "source": [
    "npos"
   ]
  },
  {
   "cell_type": "code",
   "execution_count": 45,
   "metadata": {
    "collapsed": true
   },
   "outputs": [],
   "source": [
    "# Rescale the data\n",
    "npos *= np.sqrt((dataMatrix ** 2).sum()) / np.sqrt((npos ** 2).sum())"
   ]
  },
  {
   "cell_type": "code",
   "execution_count": 46,
   "metadata": {
    "collapsed": false
   },
   "outputs": [
    {
     "data": {
      "text/plain": [
       "array([[  799.38388794,   287.52704589],\n",
       "       [  499.3760333 , -1291.13944231],\n",
       "       [-1323.26227172,  -310.93641134],\n",
       "       [ -650.05548987,  -782.52070328],\n",
       "       [-1042.42866857,   127.429386  ],\n",
       "       [ -361.78563454,   908.67686871],\n",
       "       [  281.4169238 ,   245.15253872],\n",
       "       [  645.05078997,  -505.0467051 ],\n",
       "       [ 1329.42494735,  1288.31991261]])"
      ]
     },
     "execution_count": 46,
     "metadata": {},
     "output_type": "execute_result"
    }
   ],
   "source": [
    "npos"
   ]
  },
  {
   "cell_type": "code",
   "execution_count": 47,
   "metadata": {
    "collapsed": true
   },
   "outputs": [],
   "source": [
    "# Rotate the data\n",
    "clf = PCA(n_components=2)\n",
    "X_true = clf.fit_transform(dataMatrix)"
   ]
  },
  {
   "cell_type": "code",
   "execution_count": 50,
   "metadata": {
    "collapsed": false
   },
   "outputs": [
    {
     "data": {
      "text/plain": [
       "PCA(copy=True, iterated_power='auto', n_components=2, random_state=None,\n",
       "  svd_solver='auto', tol=0.0, whiten=False)"
      ]
     },
     "execution_count": 50,
     "metadata": {},
     "output_type": "execute_result"
    }
   ],
   "source": [
    "clf"
   ]
  },
  {
   "cell_type": "code",
   "execution_count": 51,
   "metadata": {
    "collapsed": true
   },
   "outputs": [],
   "source": [
    "npos = clf.fit_transform(npos)"
   ]
  },
  {
   "cell_type": "code",
   "execution_count": null,
   "metadata": {
    "collapsed": true
   },
   "outputs": [],
   "source": []
  },
  {
   "cell_type": "code",
   "execution_count": null,
   "metadata": {
    "collapsed": true
   },
   "outputs": [],
   "source": []
  },
  {
   "cell_type": "code",
   "execution_count": null,
   "metadata": {
    "collapsed": true
   },
   "outputs": [],
   "source": []
  },
  {
   "cell_type": "code",
   "execution_count": null,
   "metadata": {
    "collapsed": true
   },
   "outputs": [],
   "source": []
  },
  {
   "cell_type": "code",
   "execution_count": null,
   "metadata": {
    "collapsed": true
   },
   "outputs": [],
   "source": []
  }
 ],
 "metadata": {
  "kernelspec": {
   "display_name": "vanpy36",
   "language": "python",
   "name": "vanpy36"
  },
  "language_info": {
   "codemirror_mode": {
    "name": "ipython",
    "version": 3
   },
   "file_extension": ".py",
   "mimetype": "text/x-python",
   "name": "python",
   "nbconvert_exporter": "python",
   "pygments_lexer": "ipython3",
   "version": "3.6.0"
  }
 },
 "nbformat": 4,
 "nbformat_minor": 2
}
